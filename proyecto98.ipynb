{
  "cells": [
    {
      "cell_type": "markdown",
      "metadata": {
        "id": "view-in-github",
        "colab_type": "text"
      },
      "source": [
        "<a href=\"https://colab.research.google.com/github/calypsso01/PYTHON_COLAB/blob/main/proyecto98.ipynb\" target=\"_parent\"><img src=\"https://colab.research.google.com/assets/colab-badge.svg\" alt=\"Open In Colab\"/></a>"
      ]
    },
    {
      "cell_type": "markdown",
      "metadata": {
        "id": "p13zNg29Jl1U"
      },
      "source": [
        "Imprime todos los números en un rango divisible por el número dado"
      ]
    },
    {
      "cell_type": "code",
      "execution_count": null,
      "metadata": {
        "id": "hx0o6GZNJu9W"
      },
      "outputs": [],
      "source": [
        "lower=int(input(\"Ingresa el límite inferior del rango:\"))\n",
        "upper=int(input(\"Ingresa el límite superior del rango:\"))\n",
        "n=int(input(\"Ingresa el número a dividir por:\"))\n",
        "for i in range(lower,upper+1):\n",
        "    if(i%n==0):\n",
        "        print(i)"
      ]
    }
  ],
  "metadata": {
    "colab": {
      "provenance": [],
      "include_colab_link": true
    },
    "kernelspec": {
      "display_name": "Python 3",
      "name": "python3"
    },
    "language_info": {
      "name": "python"
    }
  },
  "nbformat": 4,
  "nbformat_minor": 0
}