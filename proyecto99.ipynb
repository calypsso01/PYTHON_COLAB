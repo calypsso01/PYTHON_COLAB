{
  "nbformat": 4,
  "nbformat_minor": 0,
  "metadata": {
    "colab": {
      "provenance": [],
      "include_colab_link": true
    },
    "kernelspec": {
      "name": "python3",
      "display_name": "Python 3"
    },
    "language_info": {
      "name": "python"
    }
  },
  "cells": [
    {
      "cell_type": "markdown",
      "metadata": {
        "id": "view-in-github",
        "colab_type": "text"
      },
      "source": [
        "<a href=\"https://colab.research.google.com/github/calypsso01/PYTHON_COLAB/blob/main/proyecto99.ipynb\" target=\"_parent\"><img src=\"https://colab.research.google.com/assets/colab-badge.svg\" alt=\"Open In Colab\"/></a>"
      ]
    },
    {
      "cell_type": "markdown",
      "source": [
        "**IMPRIME MI NOMBRE**"
      ],
      "metadata": {
        "id": "-ItGv3s4bTl-"
      }
    },
    {
      "cell_type": "code",
      "execution_count": null,
      "metadata": {
        "colab": {
          "base_uri": "https://localhost:8080/"
        },
        "id": "OnH-b6fgbQ3I",
        "outputId": "8d0e3097-e60e-43c9-e0e1-7881410dffbc"
      },
      "outputs": [
        {
          "output_type": "stream",
          "name": "stdout",
          "text": [
            "Ingresa tu nombre :  Sheldon\n",
            "S * * * * * * \n",
            "* h * * * * * \n",
            "* * e * * * * \n",
            "* * * l * * * \n",
            "* * * * d * * \n",
            "* * * * * o * \n",
            "* * * * * * n \n"
          ]
        }
      ],
      "source": [
        "name=(input(\"Ingresa tu nombre :  \"))\n",
        "iteration = len(name)\n",
        "for i in range(0,iteration):\n",
        "    for j in range(0,iteration):\n",
        "      if(i==j):\n",
        "        print(name[j],sep=\" \",end=\" \")\n",
        "      else:\n",
        "        print(\"*\",sep=\" \",end=\" \")\n",
        "    print()"
      ]
    }
  ]
}