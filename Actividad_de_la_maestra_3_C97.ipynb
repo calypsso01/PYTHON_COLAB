{
  "nbformat": 4,
  "nbformat_minor": 0,
  "metadata": {
    "colab": {
      "provenance": [],
      "include_colab_link": true
    },
    "kernelspec": {
      "name": "python3",
      "display_name": "Python 3"
    },
    "language_info": {
      "name": "python"
    }
  },
  "cells": [
    {
      "cell_type": "markdown",
      "metadata": {
        "id": "view-in-github",
        "colab_type": "text"
      },
      "source": [
        "<a href=\"https://colab.research.google.com/github/calypsso01/PYTHON_COLAB/blob/main/Actividad_de_la_maestra_3_C97.ipynb\" target=\"_parent\"><img src=\"https://colab.research.google.com/assets/colab-badge.svg\" alt=\"Open In Colab\"/></a>"
      ]
    },
    {
      "cell_type": "code",
      "execution_count": null,
      "metadata": {
        "id": "DY0u1lZbdMJP"
      },
      "outputs": [],
      "source": [
        "def Guess(num_1, num_2, choice):\n",
        "  result = 0\n",
        "  if choice == '1':\n",
        "      result = num_1 + num_2\n",
        "      print(\"¿Cuánto es\",num_1, \"+\", num_2, \"?\")\n",
        "      ans = int(input(\">> \"))\n",
        "      if(result==ans):\n",
        "       print(\"¡Buen trabajo! La respuesta es correcta\")\n",
        "\n",
        "  elif choice == '2':\n",
        "      result = num_1 - num_2\n",
        "      print(\"¿Cuánto es\",num_1, \"-\", num_2, \"?\")\n",
        "      ans = int(input(\">> \"))\n",
        "      if(result==ans):\n",
        "       print(\"¡Buen trabajo! La respuesta es correcta\")\n",
        "\n",
        "  elif choice == '3':\n",
        "      result = num_1 * num_2\n",
        "      print(\"¿Cuánto es\",num_1, \"X\", num_2, \"?\")\n",
        "      ans = int(input(\">> \"))\n",
        "      if(result==ans):\n",
        "       print(\"¡Buen trabajo! La respuesta es correcta\")\n",
        "\n",
        "  elif choice == '4':\n",
        "      result = num_1 / num_2\n",
        "      print(\"¿Cuánto es\",num_1, \"/\", num_2, \"?\")\n",
        "      ans = int(input(\">> \"))\n",
        "      if(result==ans):\n",
        "       print(\"¡Buen trabajo! La respuesta es correcta\")\n",
        "\n",
        "  elif choice == '5':\n",
        "      result = num_1 % num_2\n",
        "      print(\"¿Cuánto es\",num_1, \"%\", num_2, \"?\")\n",
        "      ans = int(input(\">> \"))\n",
        "      if(result==ans):\n",
        "       print(\"¡Buen trabajo! La respuesta es correcta\")\n",
        "  else:\n",
        "    print(\"¡Ups! La respuesta no es correcta :(\")\n",
        "    print(\"La respuesta correcta es: : \",result)"
      ]
    },
    {
      "cell_type": "code",
      "source": [
        "import random\n",
        "\n",
        "print(\"Elige una operación: \")\n",
        "print(\"1. Suma\")\n",
        "print(\"2. Resta\")\n",
        "print(\"3. Multiplica\")\n",
        "print(\"4. Divide\")\n",
        "print(\"5. Módulo\")\n",
        "\n",
        "\n",
        "# Toma la entrada del usuario\n",
        "choice = input(\"Ingresa la opción número(1/2/3/4/5): \")\n",
        "choices = ('1', '2', '3', '4', '5')\n",
        "\n",
        "if choice in choices:\n",
        "\n",
        "    num_1 = random.randint(0,9)\n",
        "    num_2 = random.randint(0,9)\n",
        "\n",
        "    Guess(num_1, num_2, choice)\n",
        "\n",
        "else:\n",
        "    print(\"Entrada no válida\")"
      ],
      "metadata": {
        "colab": {
          "base_uri": "https://localhost:8080/"
        },
        "id": "P8arI2nWdXcd",
        "outputId": "85dc009b-133c-4270-fa20-c7587fd395f2"
      },
      "execution_count": null,
      "outputs": [
        {
          "output_type": "stream",
          "name": "stdout",
          "text": [
            "Elige una operación: \n",
            "1. Suma\n",
            "2. Resta\n",
            "3. Multiplica\n",
            "4. Divide\n",
            "5. Módulo\n",
            "Ingresa la opción número(1/2/3/4/5): 3\n",
            "¿Cuánto es 9 X 3 ?\n",
            ">> 27\n",
            "¡Buen trabajo! La respuesta es correcta\n"
          ]
        }
      ]
    }
  ]
}