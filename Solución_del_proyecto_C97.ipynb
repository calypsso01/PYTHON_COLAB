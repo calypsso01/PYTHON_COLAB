{
  "nbformat": 4,
  "nbformat_minor": 0,
  "metadata": {
    "colab": {
      "provenance": [],
      "include_colab_link": true
    },
    "kernelspec": {
      "name": "python3",
      "display_name": "Python 3"
    },
    "language_info": {
      "name": "python"
    }
  },
  "cells": [
    {
      "cell_type": "markdown",
      "metadata": {
        "id": "view-in-github",
        "colab_type": "text"
      },
      "source": [
        "<a href=\"https://colab.research.google.com/github/calypsso01/PYTHON_COLAB/blob/main/Soluci%C3%B3n_del_proyecto_C97.ipynb\" target=\"_parent\"><img src=\"https://colab.research.google.com/assets/colab-badge.svg\" alt=\"Open In Colab\"/></a>"
      ]
    },
    {
      "cell_type": "markdown",
      "source": [
        "**VERIFICA SI ES UN AÑO BISIESTO**"
      ],
      "metadata": {
        "id": "wBIWdm6M0WkP"
      }
    },
    {
      "cell_type": "code",
      "execution_count": null,
      "metadata": {
        "colab": {
          "base_uri": "https://localhost:8080/"
        },
        "id": "ssyDwiXx0JFg",
        "outputId": "6b7c1690-3e10-4b99-b475-5302ace78e68"
      },
      "outputs": [
        {
          "output_type": "stream",
          "name": "stdout",
          "text": [
            "Ingresa el año para verificar:2022\n",
            "El año no es bisiesto\n"
          ]
        }
      ],
      "source": [
        "year=int(input(\"Ingresa el año para verificar:\"))\n",
        "\n",
        "if(year % 4 == 0 and year % 100 != 0 or year % 400==0):\n",
        "  print(\"¡El año es bisiesto!\")\n",
        "else:\n",
        "  print(\"El año no es bisiesto\") "
      ]
    },
    {
      "cell_type": "markdown",
      "source": [
        "**Lee la altura en centímetros y convierte la altura a pies y pulgadas**"
      ],
      "metadata": {
        "id": "kFvvaXWC0ZPv"
      }
    },
    {
      "cell_type": "code",
      "source": [
        "cm=int(input(\"Ingresa la altura en centímetros:\"))\n",
        "inches=0.394*cm\n",
        "feet=0.0328*cm\n",
        "print(\"La longitud en pulgadas:\",round(inches,2))\n",
        "print(\"La longitud en pies:\",round(feet,2))"
      ],
      "metadata": {
        "id": "35C-z5Jl0RL2",
        "colab": {
          "base_uri": "https://localhost:8080/"
        },
        "outputId": "18ff13d8-4cf7-4f5e-8c63-e8a88e7ab450"
      },
      "execution_count": null,
      "outputs": [
        {
          "output_type": "stream",
          "name": "stdout",
          "text": [
            "Ingresa la altura en centímetros:8\n",
            "La longitud en pulgadas: 3.15\n",
            "La longitud en pies: 0.26\n"
          ]
        }
      ]
    }
  ]
}