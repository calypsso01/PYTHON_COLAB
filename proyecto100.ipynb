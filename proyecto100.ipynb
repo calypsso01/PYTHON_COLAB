{
  "nbformat": 4,
  "nbformat_minor": 0,
  "metadata": {
    "colab": {
      "provenance": [],
      "include_colab_link": true
    },
    "kernelspec": {
      "name": "python3",
      "display_name": "Python 3"
    },
    "language_info": {
      "name": "python"
    }
  },
  "cells": [
    {
      "cell_type": "markdown",
      "metadata": {
        "id": "view-in-github",
        "colab_type": "text"
      },
      "source": [
        "<a href=\"https://colab.research.google.com/github/calypsso01/PYTHON_COLAB/blob/main/proyecto100.ipynb\" target=\"_parent\"><img src=\"https://colab.research.google.com/assets/colab-badge.svg\" alt=\"Open In Colab\"/></a>"
      ]
    },
    {
      "cell_type": "markdown",
      "metadata": {
        "id": "HU9P8NYZq1bf"
      },
      "source": [
        "### **GUARDA LA CALIFICACIÓN DE TU PELÍCULA**\n",
        "\n",
        "Ingresa el **Nombre de la película**; \n",
        "\n",
        "Calificar al actor, historia y música del 1-5 ; \n",
        "\n",
        "1 siendo lo mínimo y 5 el máximo\n",
        "\n"
      ]
    },
    {
      "cell_type": "code",
      "metadata": {
        "id": "4LOQr7Pgi4bI"
      },
      "source": [
        "class MovieReview:\n",
        "  def __init__(self, película, historia, actores, música):\n",
        "    #Nombre de la película\n",
        "    self.movie_name = película\n",
        "\n",
        "    #Calificaciones\n",
        "    self.story_rating = historia\n",
        "    self.actor_rating = actores\n",
        "    self.music_rating = música\n",
        "\n",
        "    #Promedio de las calificaciones\n",
        "    self.avg = int((self.story_rating + self.actor_rating + self.music_rating)/3)\n",
        "\n",
        "    #Información de la película\n",
        "    self.myrating = {\n",
        "        \"Nombre de la película\" : self.movie_name,\n",
        "        \"Calificación de la historia\" : self.story_rating,\n",
        "        \"Calificación del actor\": self.actor_rating,\n",
        "        \"Calificación de la música\": self.music_rating,\n",
        "        \"Promedio de las calificaciones\" : self.avg\n",
        "    }\n",
        "  \n",
        "  def add_movie_ratings(self, movie_list):\n",
        "        movie_list.append(self.myrating)\n",
        "  \n",
        "  \n",
        "  def avg_star_ratings(self, movie_list):\n",
        "    for movie in movie_list:\n",
        "      if(movie[\"Promedio de las calificaciones\"] == 1 ):\n",
        "        print(\"Gracias por la respuesta, calificaste la película con   *\")\n",
        "        print(movie)\n",
        "\n",
        "      elif(movie[\"Promedio de las calificaciones\"] == 2 ):\n",
        "        print(\"Gracias por la respuesta, calificaste la película con   * * \")\n",
        "        print(movie)\n",
        "\n",
        "      elif(movie[\"Promedio de las calificaciones\"] == 3 ):\n",
        "        print(\"Gracias por la respuesta, calificaste la película con   * * *\")\n",
        "        print(movie)\n",
        "\n",
        "      elif(movie[\"Promedio de las calificaciones\"] == 4 ):\n",
        "        print(\"Gracias por la respuesta, calificaste la película con   * * * *\")\n",
        "        print(movie)\n",
        "\n",
        "      if(movie[\"Promedio de las calificaciones\"] == 5 ):\n",
        "        print(\"Gracias por la respuesta, calificaste la película con   * * * * *\")\n",
        "        print(movie)\n",
        "      \n",
        "        \n",
        "    "
      ],
      "execution_count": null,
      "outputs": []
    },
    {
      "cell_type": "code",
      "metadata": {
        "id": "FS2UixDEmuZh"
      },
      "source": [
        "moviereviews = []"
      ],
      "execution_count": null,
      "outputs": []
    },
    {
      "cell_type": "code",
      "metadata": {
        "colab": {
          "base_uri": "https://localhost:8080/"
        },
        "id": "M_PycbwVrFC5",
        "outputId": "74a3fbe5-a3ba-4388-a7ba-9088b04d4db0"
      },
      "source": [
        "#Ingresa el nombre de la película; \n",
        "# Califica al actor, historia y música en una base de 1-5; siendo 5 el más alto\n",
        "\n",
        "review1 = MovieReview (\"Buena vida\", 1, 1, 3)\n",
        "review1.add_movie_ratings(moviereviews)\n",
        "review1.avg_star_ratings(moviereviews)"
      ],
      "execution_count": null,
      "outputs": [
        {
          "output_type": "stream",
          "name": "stdout",
          "text": [
            "Gracias por la respuesta, calificaste la película con   *\n",
            "{'Nombre de la película': 'Buena vida', 'Calificación de la historia': 1, 'Calificación del actor': 1, 'Calificación de la música': 3, 'Promedio de las calificaciones': 1}\n"
          ]
        }
      ]
    },
    {
      "cell_type": "code",
      "metadata": {
        "colab": {
          "base_uri": "https://localhost:8080/"
        },
        "id": "w-GfuJ2_VFOU",
        "outputId": "b39a28e7-aa6c-4ced-d829-168891b29c12"
      },
      "source": [
        "review2 = MovieReview(\"Sonido maravilloso\", 5, 5, 5)\n",
        "review2.add_movie_ratings(moviereviews)\n",
        "review2.avg_star_ratings(moviereviews)"
      ],
      "execution_count": null,
      "outputs": [
        {
          "output_type": "stream",
          "name": "stdout",
          "text": [
            "Gracias por la respuesta, calificaste la película con   *\n",
            "{'Nombre de la película': 'Buena vida', 'Calificación de la historia': 1, 'Calificación del actor': 1, 'Calificación de la música': 3, 'Promedio de las calificaciones': 1}\n",
            "Gracias por la respuesta, calificaste la película con   * * * * *\n",
            "{'Nombre de la película': 'Sonido maravilloso', 'Calificación de la historia': 5, 'Calificación del actor': 5, 'Calificación de la música': 5, 'Promedio de las calificaciones': 5}\n"
          ]
        }
      ]
    },
    {
      "cell_type": "code",
      "metadata": {
        "colab": {
          "base_uri": "https://localhost:8080/"
        },
        "id": "196NYU3rXGrr",
        "outputId": "ca57ee3a-6d41-4e61-ec37-6bfadb3243ba"
      },
      "source": [
        "review3 = MovieReview(\"Sonriente\", 1, 1, 3)\n",
        "review3.add_movie_ratings(moviereviews)\n",
        "review3.avg_star_ratings(moviereviews)"
      ],
      "execution_count": null,
      "outputs": [
        {
          "output_type": "stream",
          "name": "stdout",
          "text": [
            "Gracias por la respuesta, calificaste la película con   *\n",
            "{'Nombre de la película': 'Buena vida', 'Calificación de la historia': 1, 'Calificación del actor': 1, 'Calificación de la música': 3, 'Promedio de las calificaciones': 1}\n",
            "Gracias por la respuesta, calificaste la película con   * * * * *\n",
            "{'Nombre de la película': 'Sonido maravilloso', 'Calificación de la historia': 5, 'Calificación del actor': 5, 'Calificación de la música': 5, 'Promedio de las calificaciones': 5}\n",
            "Gracias por la respuesta, calificaste la película con   *\n",
            "{'Nombre de la película': 'Sonriente', 'Calificación de la historia': 1, 'Calificación del actor': 1, 'Calificación de la música': 3, 'Promedio de las calificaciones': 1}\n"
          ]
        }
      ]
    }
  ]
}